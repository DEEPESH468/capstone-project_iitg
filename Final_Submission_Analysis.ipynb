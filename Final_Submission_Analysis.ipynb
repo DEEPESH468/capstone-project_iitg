{
 "cells": [
  {
   "cell_type": "markdown",
   "id": "3bf461af",
   "metadata": {},
   "source": [
    "# CSV File Analysis\n",
    "This notebook loads and displays data from the `Final_Submission.csv` file."
   ]
  },
  {
   "cell_type": "code",
   "execution_count": null,
   "id": "5b14792b",
   "metadata": {},
   "outputs": [],
   "source": [
    "import pandas as pd\n",
    "\n",
    "# Load the CSV file\n",
    "df = pd.read_csv(\"Final_Submission.csv\")\n",
    "df.head()"
   ]
  },
  {
   "cell_type": "code",
   "execution_count": null,
   "id": "7af905e4",
   "metadata": {},
   "outputs": [],
   "source": [
    "# Basic info and statistics\n",
    "df.info()\n",
    "df.describe(include='all')"
   ]
  }
 ],
 "metadata": {},
 "nbformat": 4,
 "nbformat_minor": 5
}
